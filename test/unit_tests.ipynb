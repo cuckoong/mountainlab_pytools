{
 "cells": [
  {
   "cell_type": "code",
   "execution_count": 1,
   "metadata": {},
   "outputs": [],
   "source": [
    "# First install mountainlab-js including the mltools python module\n",
    "# And install pyms processor package\n",
    "from mltools import mlproc as ml\n",
    "from mltools import mlstudy as mls\n",
    "from mltools import mdaio\n",
    "import json\n",
    "import numpy as np"
   ]
  },
  {
   "cell_type": "code",
   "execution_count": 2,
   "metadata": {},
   "outputs": [
    {
     "name": "stdout",
     "output_type": "stream",
     "text": [
      "okay\n"
     ]
    }
   ],
   "source": [
    "# Get the spec of a processor\n",
    "spec=ml.spec('pyms.synthesize_random_waveforms')\n",
    "# TODO: provide human-readable spec\n",
    "assert len(spec['outputs']) > 0\n",
    "print('okay')"
   ]
  },
  {
   "cell_type": "code",
   "execution_count": 5,
   "metadata": {},
   "outputs": [
    {
     "name": "stdout",
     "output_type": "stream",
     "text": [
      "RUNNING:::::: ml-run-process pyms.synthesize_random_waveforms --inputs --parameters upsamplefac:11 K:10 T:500 M:4 --mode=exec --outputs waveforms_out:/tmp/mountainlab-tmp/mountainlab/tmp_short_term/output_waveforms_out_5ef5db4089698e2187b97adeb9e4775fce36cc35.prv\n",
      "[ Getting processor spec... ]\n",
      "[ Checking inputs and substituting prvs ... ]\n",
      "[ Checking outputs... ]\n",
      "[ Creating temporary directory ... ]\n",
      "[ Initializing process ... ]\n",
      "[ Running ... ] /home/magland/main-venv/bin/python3 /home/magland/.mountainlab/packages/mountainsort/packages/pyms/synthesis/synthesis.py pyms.synthesize_random_waveforms --waveforms_out=/tmp/mountainlab-tmp/output__waveforms_out --upsamplefac=11 --K=10 --T=500 --M=4 --_tempdir=/tmp/mountainlab-tmp/tempdir__sY70aH\n",
      "[ Creating output prv for waveforms_out ... ]\n",
      "[ Removing temporary directory ... ]\n",
      "[ Done. ]\n",
      "RUNNING:::::: ml-run-process pyms.synthesize_random_waveforms --inputs --parameters upsamplefac:11 K:10 T:500 M:4 --outputs waveforms_out:/tmp/mountainlab-tmp/mountainlab/tmp_short_term/output_waveforms_out_c478e0e980e0da91be77b0d7067451988356c91e.prv\n",
      "[ Getting processor spec... ]\n",
      "[ Checking inputs and substituting prvs ... ]\n",
      "[ Computing process signature ... ]\n",
      "process_signature=f15a344048b19498082c8051b5e02f0e7036dff0\n",
      "[ Checking outputs... ]\n",
      "[ Checking process cache ... ]\n",
      "[ Process already completed. ]\n",
      "[ Creating output prv for waveforms_out ... ]\n",
      "[ Done. ]\n",
      "RUNNING:::::: ml-run-process pyms.synthesize_random_waveforms --inputs --parameters upsamplefac:11 K:10 T:500 M:4 --mode=queue --outputs waveforms_out:/tmp/mountainlab-tmp/mountainlab/tmp_short_term/output_waveforms_out_46e6c36f1d47fa3e1887859c38339827e94ce99f.prv\n",
      "[ Getting processor spec... ]\n",
      "[ Checking inputs and substituting prvs ... ]\n",
      "[ Computing process signature ... ]\n",
      "[ Checking outputs... ]\n",
      "[ Checking process cache ... ]\n",
      "[ Process already completed. ]\n",
      "[ Creating output prv for waveforms_out ... ]\n",
      "[ Done. ]\n",
      "okay\n"
     ]
    }
   ],
   "source": [
    "# Run a process and load the output file\n",
    "M=4; T=500; K=10; upsamplefac=11;\n",
    "output1=ml.execProcess('pyms.synthesize_random_waveforms',{},{'waveforms_out':True},{'M':M,'T':T,'K':K,'upsamplefac':upsamplefac},{})\n",
    "W=mls.loadMdaFile(output1['waveforms_out'])\n",
    "assert W.shape == (M,T*upsamplefac,K)\n",
    "output2=ml.runProcess('pyms.synthesize_random_waveforms',{},{'waveforms_out':True},{'M':M,'T':T,'K':K,'upsamplefac':upsamplefac},{})\n",
    "W2=mls.loadMdaFile(output2['waveforms_out'])\n",
    "assert W2.shape == (M,T*upsamplefac,K)\n",
    "output3=ml.queueProcess('pyms.synthesize_random_waveforms',{},{'waveforms_out':True},{'M':M,'T':T,'K':K,'upsamplefac':upsamplefac},{})\n",
    "W3=mls.loadMdaFile(output3['waveforms_out'])\n",
    "assert W3.shape == (M,T*upsamplefac,K)\n",
    "print('okay')"
   ]
  },
  {
   "cell_type": "code",
   "execution_count": 8,
   "metadata": {},
   "outputs": [
    {
     "name": "stdout",
     "output_type": "stream",
     "text": [
      "Error: 1.1913825925802257e-07\n",
      "Okay\n"
     ]
    }
   ],
   "source": [
    "# Write and read a .mda file\n",
    "X=np.random.normal(0,1,[100,100])\n",
    "mdaio.writemda32(X,'test.mda')\n",
    "Y=mdaio.readmda('test.mda')\n",
    "err=np.max(np.abs(X-Y))\n",
    "print('Error: {}'.format(err))\n",
    "assert err < 1e-6\n",
    "print('Okay')"
   ]
  },
  {
   "cell_type": "code",
   "execution_count": null,
   "metadata": {},
   "outputs": [],
   "source": []
  }
 ],
 "metadata": {
  "kernelspec": {
   "display_name": "Python 3",
   "language": "python",
   "name": "python3"
  },
  "language_info": {
   "codemirror_mode": {
    "name": "ipython",
    "version": 3
   },
   "file_extension": ".py",
   "mimetype": "text/x-python",
   "name": "python",
   "nbconvert_exporter": "python",
   "pygments_lexer": "ipython3",
   "version": "3.5.2"
  }
 },
 "nbformat": 4,
 "nbformat_minor": 2
}
